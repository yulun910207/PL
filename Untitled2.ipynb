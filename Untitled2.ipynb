{
 "cells": [
  {
   "cell_type": "code",
   "execution_count": 5,
   "id": "d98d5ab9",
   "metadata": {},
   "outputs": [
    {
     "name": "stdout",
     "output_type": "stream",
     "text": [
      "Defaulting to user installation because normal site-packages is not writeable\n",
      "Requirement already satisfied: beautifulsoup4 in c:\\programdata\\anaconda3\\lib\\site-packages (4.11.1)\n",
      "Requirement already satisfied: soupsieve>1.2 in c:\\programdata\\anaconda3\\lib\\site-packages (from beautifulsoup4) (2.3.1)\n",
      "Note: you may need to restart the kernel to use updated packages.\n"
     ]
    }
   ],
   "source": [
    "pip install beautifulsoup4"
   ]
  },
  {
   "cell_type": "code",
   "execution_count": 8,
   "id": "166a4c50",
   "metadata": {},
   "outputs": [
    {
     "data": {
      "text/plain": [
       "[<div class=\"title\">\n",
       " <a href=\"/bbs/NBA/M.1667291068.A.3B5.html\">[新聞] 奪冠熱門戰績不佳　快艇PG霸氣喊：我扛</a>\n",
       " </div>,\n",
       " <div class=\"title\">\n",
       " <a href=\"/bbs/NBA/M.1667292010.A.179.html\">[討論] NBA的「貪婪是好的」（14）</a>\n",
       " </div>,\n",
       " <div class=\"title\">\n",
       " <a href=\"/bbs/NBA/M.1667295479.A.1ED.html\">[新聞] 厄文刪文也沒用 球迷穿「對抗反猶主義」T</a>\n",
       " </div>,\n",
       " <div class=\"title\">\n",
       " <a href=\"/bbs/NBA/M.1667299355.A.D4E.html\">[新聞] CYT-曝19歲當爸心路歷程 泰托姆一度擔憂</a>\n",
       " </div>,\n",
       " <div class=\"title\">\n",
       " <a href=\"/bbs/NBA/M.1667301852.A.C7D.html\">[新聞] Leonard持續缺陣　快艇主帥力挺：他也很沮</a>\n",
       " </div>,\n",
       " <div class=\"title\">\n",
       " <a href=\"/bbs/NBA/M.1667302323.A.709.html\">[新聞] 準絕殺助快艇止4連敗 喬治：為勝負扛全責</a>\n",
       " </div>,\n",
       " <div class=\"title\">\n",
       " <a href=\"/bbs/NBA/M.1667302761.A.27F.html\">[情報] 第3週 Power Rankings 戰力排行榜</a>\n",
       " </div>,\n",
       " <div class=\"title\">\n",
       " <a href=\"/bbs/NBA/M.1667304288.A.F4F.html\">[花邊] Jokic扮Joker</a>\n",
       " </div>,\n",
       " <div class=\"title\">\n",
       " <a href=\"/bbs/NBA/M.1665404934.A.945.html\">[情報] SEASON Schedule October / November 22-23</a>\n",
       " </div>,\n",
       " <div class=\"title\">\n",
       " <a href=\"/bbs/NBA/M.1667268161.A.43E.html\">[公告] 版規v10.01</a>\n",
       " </div>,\n",
       " <div class=\"title\">\n",
       " <a href=\"/bbs/NBA/M.1667279662.A.237.html\">[情報] NBA Standings (Nov. 01, 2022)</a>\n",
       " </div>]"
      ]
     },
     "execution_count": 8,
     "metadata": {},
     "output_type": "execute_result"
    }
   ],
   "source": [
    "import urllib.request as req\n",
    "url = \"https://www.ptt.cc/bbs/NBA/index.html\"\n",
    "request=req.Request(url, headers={\n",
    "    \"User-Agent\":\"Mozilla/5.0 (Windows NT 10.0; Win64; x64) AppleWebKit/537.36 (KHTML, like Gecko) Chrome/106.0.0.0 Safari/537.36\"\n",
    "})\n",
    "with req.urlopen(request) as response:\n",
    "    data=response.read().decode(\"utf-8\")\n",
    "import bs4\n",
    "root=bs4.BeautifulSoup(data, \"html.parser\")\n",
    "titles=root.find_all(\"div\", class_=\"title\")\n",
    "\n",
    "titles"
   ]
  },
  {
   "cell_type": "code",
   "execution_count": null,
   "id": "c4fbacf1",
   "metadata": {},
   "outputs": [],
   "source": [
    "import csv"
   ]
  }
 ],
 "metadata": {
  "kernelspec": {
   "display_name": "Python 3 (ipykernel)",
   "language": "python",
   "name": "python3"
  },
  "language_info": {
   "codemirror_mode": {
    "name": "ipython",
    "version": 3
   },
   "file_extension": ".py",
   "mimetype": "text/x-python",
   "name": "python",
   "nbconvert_exporter": "python",
   "pygments_lexer": "ipython3",
   "version": "3.9.12"
  }
 },
 "nbformat": 4,
 "nbformat_minor": 5
}

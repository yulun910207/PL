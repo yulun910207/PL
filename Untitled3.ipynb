{
 "cells": [
  {
   "cell_type": "code",
   "execution_count": 3,
   "id": "9bbe5ba7",
   "metadata": {},
   "outputs": [],
   "source": [
    "import urllib.request as req\n",
    "url = \"https://www.ptt.cc/bbs/NBA/index.html\"\n",
    "request=req.Request(url, headers={\n",
    "    \"User-Agent\":\"Mozilla/5.0 (Windows NT 10.0; Win64; x64) AppleWebKit/537.36 (KHTML, like Gecko) Chrome/106.0.0.0 Safari/537.36\"\n",
    "})\n",
    "with req.urlopen(request) as response:\n",
    "    data=response.read().decode(\"utf-8\")\n",
    "import bs4\n",
    "root=bs4.BeautifulSoup(data, \"html.parser\")\n",
    "titles=root.find_all(\"div\", \"title\")\n",
    "import csv\n",
    "\n",
    "with open(\"NB.csv\", \"w\",encoding=\"utf-8\") as file:\n",
    "    writer = csv.writer(file)                                          \n",
    "    writer.writerow(['標題'])\n",
    "    \n",
    "    for object in titles :\n",
    "        if object.a != None :\n",
    "            titles=root.find_all(\"div\", \"title\")\n",
    "            writer.writerow([titles])\n",
    "        #請同學評分的時候，如果要觀看csv檔，用記事本打開它並另存成使用BOM的UTF-8檔案\n",
    "        #以上參考iT邦幫忙的爬蟲實戰演練\n",
    "import pandas as pd\n",
    "NBcsv = pd.read_csv(\"NB.csv\")\n",
    "\n",
    "import pandas as pd\n",
    "csv_data = pd.read_csv(\"NB.csv\", sep = \",\")\n",
    "csv_data.to_json(\"NB.json\", orient = \"records\") #參考 Delftsnack網站"
   ]
  },
  {
   "cell_type": "code",
   "execution_count": null,
   "id": "5a3cdc3d",
   "metadata": {},
   "outputs": [],
   "source": []
  }
 ],
 "metadata": {
  "kernelspec": {
   "display_name": "Python 3 (ipykernel)",
   "language": "python",
   "name": "python3"
  },
  "language_info": {
   "codemirror_mode": {
    "name": "ipython",
    "version": 3
   },
   "file_extension": ".py",
   "mimetype": "text/x-python",
   "name": "python",
   "nbconvert_exporter": "python",
   "pygments_lexer": "ipython3",
   "version": "3.9.12"
  }
 },
 "nbformat": 4,
 "nbformat_minor": 5
}

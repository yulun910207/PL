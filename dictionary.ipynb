{
 "cells": [
  {
   "cell_type": "code",
   "execution_count": 1,
   "id": "b25919e4",
   "metadata": {},
   "outputs": [
    {
     "name": "stdout",
     "output_type": "stream",
     "text": [
      "['高中班級', '大學班級']\n",
      "[['1-3', '2-7'], ['甲班', '乙班']]\n"
     ]
    },
    {
     "ename": "IndexError",
     "evalue": "list index out of range",
     "output_type": "error",
     "traceback": [
      "\u001b[1;31m---------------------------------------------------------------------------\u001b[0m",
      "\u001b[1;31mIndexError\u001b[0m                                Traceback (most recent call last)",
      "Input \u001b[1;32mIn [1]\u001b[0m, in \u001b[0;36m<cell line: 12>\u001b[1;34m()\u001b[0m\n\u001b[0;32m      7\u001b[0m l2\u001b[38;5;241m=\u001b[39m\u001b[38;5;28mlist\u001b[39m(d\u001b[38;5;241m.\u001b[39mvalues())\n\u001b[0;32m      8\u001b[0m \u001b[38;5;28mprint\u001b[39m(l2)\n\u001b[1;32m---> 12\u001b[0m \u001b[38;5;28mprint\u001b[39m(\u001b[43md\u001b[49m\u001b[43m[\u001b[49m\u001b[38;5;124;43m\"\u001b[39;49m\u001b[38;5;124;43m高中班級\u001b[39;49m\u001b[38;5;124;43m\"\u001b[39;49m\u001b[43m]\u001b[49m\u001b[43m[\u001b[49m\u001b[38;5;241;43m3\u001b[39;49m\u001b[43m]\u001b[49m)\n\u001b[0;32m     15\u001b[0m d[\u001b[38;5;124m\"\u001b[39m\u001b[38;5;124m大學班級\u001b[39m\u001b[38;5;124m\"\u001b[39m]\u001b[38;5;241m=\u001b[39m[\u001b[38;5;124m\"\u001b[39m\u001b[38;5;124m甲班\u001b[39m\u001b[38;5;124m\"\u001b[39m,\u001b[38;5;124m\"\u001b[39m\u001b[38;5;124m乙班\u001b[39m\u001b[38;5;124m\"\u001b[39m]\n\u001b[0;32m     16\u001b[0m \u001b[38;5;28mprint\u001b[39m(d)\n",
      "\u001b[1;31mIndexError\u001b[0m: list index out of range"
     ]
    }
   ],
   "source": [
    "d={\"高中班級\":[\"1-3\",\"2-7\"],\n",
    "   \"大學班級\":[\"甲班\",\"乙班\"]}\n",
    "\n",
    "\n",
    "l1=list(d.keys())\n",
    "print(l1)\n",
    "l2=list(d.values())\n",
    "print(l2)\n",
    "\n",
    "\n",
    "\n",
    "print(d[\"高中班級\"][2])\n",
    "\n",
    "\n",
    "d[\"大學班級\"]=[\"甲班\",\"乙班\"]\n",
    "print(d)"
   ]
  },
  {
   "cell_type": "code",
   "execution_count": 2,
   "id": "b814cc3c",
   "metadata": {},
   "outputs": [
    {
     "name": "stdout",
     "output_type": "stream",
     "text": [
      "['高中班級', '大學班級']\n",
      "[['1-3', '2-7'], ['甲班', '乙班']]\n"
     ]
    },
    {
     "ename": "IndexError",
     "evalue": "list index out of range",
     "output_type": "error",
     "traceback": [
      "\u001b[1;31m---------------------------------------------------------------------------\u001b[0m",
      "\u001b[1;31mIndexError\u001b[0m                                Traceback (most recent call last)",
      "Input \u001b[1;32mIn [2]\u001b[0m, in \u001b[0;36m<cell line: 12>\u001b[1;34m()\u001b[0m\n\u001b[0;32m      7\u001b[0m l2\u001b[38;5;241m=\u001b[39m\u001b[38;5;28mlist\u001b[39m(d\u001b[38;5;241m.\u001b[39mvalues())\n\u001b[0;32m      8\u001b[0m \u001b[38;5;28mprint\u001b[39m(l2)\n\u001b[1;32m---> 12\u001b[0m \u001b[38;5;28mprint\u001b[39m(\u001b[43md\u001b[49m\u001b[43m[\u001b[49m\u001b[38;5;124;43m\"\u001b[39;49m\u001b[38;5;124;43m高中班級\u001b[39;49m\u001b[38;5;124;43m\"\u001b[39;49m\u001b[43m]\u001b[49m\u001b[43m[\u001b[49m\u001b[38;5;241;43m2\u001b[39;49m\u001b[43m]\u001b[49m)\n\u001b[0;32m     15\u001b[0m d[\u001b[38;5;124m\"\u001b[39m\u001b[38;5;124m大學班級\u001b[39m\u001b[38;5;124m\"\u001b[39m]\u001b[38;5;241m=\u001b[39m[\u001b[38;5;124m\"\u001b[39m\u001b[38;5;124m甲班\u001b[39m\u001b[38;5;124m\"\u001b[39m,\u001b[38;5;124m\"\u001b[39m\u001b[38;5;124m乙班\u001b[39m\u001b[38;5;124m\"\u001b[39m]\n\u001b[0;32m     16\u001b[0m \u001b[38;5;28mprint\u001b[39m(d)\n",
      "\u001b[1;31mIndexError\u001b[0m: list index out of range"
     ]
    }
   ],
   "source": [
    "d={\"高中班級\":[\"1-3\",\"2-7\"],\n",
    "   \"大學班級\":[\"甲班\",\"乙班\"]}\n",
    "\n",
    "\n",
    "l1=list(d.keys())\n",
    "print(l1)\n",
    "l2=list(d.values())\n",
    "print(l2)\n",
    "\n",
    "\n",
    "\n",
    "print(d[\"高中班級\"][1])\n",
    "\n",
    "\n",
    "d[\"大學班級\"]=[\"甲班\",\"乙班\"]\n",
    "print(d)\n"
   ]
  },
  {
   "cell_type": "code",
   "execution_count": 3,
   "id": "5b7379a6",
   "metadata": {},
   "outputs": [
    {
     "name": "stdout",
     "output_type": "stream",
     "text": [
      "['高中班級', '大學班級']\n",
      "[['1-3', '2-7'], ['甲班', '乙班']]\n",
      "2-7\n",
      "{'高中班級': ['1-3', '2-7'], '大學班級': ['甲班', '乙班']}\n"
     ]
    }
   ],
   "source": [
    "d={\"高中班級\":[\"1-3\",\"2-7\"],\n",
    "   \"大學班級\":[\"甲班\",\"乙班\"]}\n",
    "\n",
    "\n",
    "l1=list(d.keys())\n",
    "print(l1)\n",
    "l2=list(d.values())\n",
    "print(l2)\n",
    "\n",
    "\n",
    "\n",
    "print(d[\"高中班級\"][1])\n",
    "\n",
    "\n",
    "d[\"大學班級\"]=[\"甲班\",\"乙班\"]\n",
    "print(d)\n"
   ]
  },
  {
   "cell_type": "code",
   "execution_count": null,
   "id": "d8649226",
   "metadata": {},
   "outputs": [],
   "source": [
    "d={\"學號\":[\"40971119H\",\"40971121H\",\"40971122H\",\"40971125H\"],\n",
    "   \"分發寢室\":[\"1545\",\"1439\",\"1427\",\"1450\"]}\n",
    "s = input(\"輸入學號\")\n",
    "\n",
    "n = 0\n",
    "for i in d[\"學號\"] :\n",
    "     #print(i)\n",
    "        if s == i\n",
    "             print(d[\"分發寢室\"][n])\n",
    "        else : \n",
    "            n = n+1\n"
   ]
  },
  {
   "cell_type": "code",
   "execution_count": null,
   "id": "c99870bc",
   "metadata": {},
   "outputs": [],
   "source": [
    "d={\"學號\":[\"40971119H\",\"40971121H\",\"40971122H\",\"40971125H\"],\n",
    "   \"分發寢室\":[\"1545\",\"1439\",\"1427\",\"1450\"]}\n",
    "s = input(\"輸入學號\")\n",
    "\n",
    "n = 0\n",
    "for i in d[\"學號\"] :\n",
    "     #print(i)\n",
    "        if s == i :\n",
    "             print(d[\"分發寢室\"][n])\n",
    "        else : \n",
    "            n = n+1\n"
   ]
  },
  {
   "cell_type": "code",
   "execution_count": null,
   "id": "8192b80c",
   "metadata": {},
   "outputs": [],
   "source": [
    "d={\"學號\":[\"40971119H\",\"40971121H\",\"40971122H\",\"40971125H\"],\n",
    "   \"分發寢室\":[\"1545\",\"1439\",\"1427\",\"1450\"]}\n",
    "s = input(\"輸入學號\")\n",
    "\n",
    "n = 0\n",
    "for i in d[\"學號\"] :\n",
    "     #print(i)\n",
    "        if s == i :\n",
    "             print(d[\"分發寢室\"][n])\n",
    "        else : \n",
    "            n = n+1"
   ]
  },
  {
   "cell_type": "code",
   "execution_count": 16,
   "id": "25f24bca",
   "metadata": {},
   "outputs": [
    {
     "name": "stdout",
     "output_type": "stream",
     "text": [
      "輸入學號40971122H\n",
      "1427\n"
     ]
    }
   ],
   "source": [
    "d={\"學號\":[\"40971119H\",\"40971121H\",\"40971122H\",\"40971125H\"],\n",
    "   \"分發寢室\":[\"1545\",\"1439\",\"1427\",\"1450\"]}\n",
    "s = input(\"輸入學號\")\n",
    "\n",
    "n = 0\n",
    "for i in d[\"學號\"] :\n",
    "     #print(i)\n",
    "        if s == i :\n",
    "             print(d[\"分發寢室\"][n])\n",
    "        else : \n",
    "            n = n+1"
   ]
  },
  {
   "cell_type": "code",
   "execution_count": 17,
   "id": "b62e7761",
   "metadata": {},
   "outputs": [
    {
     "name": "stdout",
     "output_type": "stream",
     "text": [
      "輸入學號40971128H\n"
     ]
    }
   ],
   "source": [
    "d={\"學號\":[\"40971119H\",\"40971121H\",\"40971122H\",\"40971125H\"],\n",
    "   \"分發寢室\":[\"1545\",\"1439\",\"1427\",\"1450\"]}\n",
    "s = input(\"輸入學號\")\n",
    "\n",
    "n = 0\n",
    "for i in d[\"學號\"] :\n",
    "     #print(i)\n",
    "        if s == i :\n",
    "             print(d[\"分發寢室\"][n])\n",
    "        else : \n",
    "            n = n+1"
   ]
  },
  {
   "cell_type": "code",
   "execution_count": null,
   "id": "e810e1fd",
   "metadata": {},
   "outputs": [],
   "source": []
  },
  {
   "cell_type": "code",
   "execution_count": 18,
   "id": "e6093d8e",
   "metadata": {},
   "outputs": [
    {
     "name": "stdout",
     "output_type": "stream",
     "text": [
      "輸入學號40971125H\n",
      "1450\n"
     ]
    }
   ],
   "source": [
    "d={\"學號\":[\"40971119H\",\"40971121H\",\"40971122H\",\"40971125H\"],\n",
    "   \"分發寢室\":[\"1545\",\"1439\",\"1427\",\"1450\"]}\n",
    "s = input(\"輸入學號\")\n",
    "\n",
    "n = 0\n",
    "for i in d[\"學號\"] :\n",
    "     #print(i)\n",
    "        if s == i :\n",
    "             print(d[\"分發寢室\"][n])\n",
    "        else : \n",
    "            n = n+1"
   ]
  },
  {
   "cell_type": "code",
   "execution_count": 19,
   "id": "bef8251c",
   "metadata": {},
   "outputs": [
    {
     "name": "stdout",
     "output_type": "stream",
     "text": [
      "輸入學號40971125H\n",
      "1545\n"
     ]
    }
   ],
   "source": [
    "d={\"學號\":[\"40971119H\",\"40971121H\",\"40971122H\",\"40971125H\"],\n",
    "   \"分發寢室\":[\"1545\",\"1439\",\"1427\",\"1450\"]}\n",
    "s = input(\"輸入學號\")\n",
    "\n",
    "n = 0\n",
    "for i in d[\"學號\"] :\n",
    "     #print(i)\n",
    "        if s == i :\n",
    "             print(d[\"分發寢室\"][n])\n",
    "        else : \n",
    "            n = n"
   ]
  },
  {
   "cell_type": "code",
   "execution_count": 20,
   "id": "56fb063e",
   "metadata": {},
   "outputs": [
    {
     "name": "stdout",
     "output_type": "stream",
     "text": [
      "輸入學號40971125H\n",
      "1450\n"
     ]
    }
   ],
   "source": [
    "d={\"學號\":[\"40971119H\",\"40971121H\",\"40971122H\",\"40971125H\"],\n",
    "   \"分發寢室\":[\"1545\",\"1439\",\"1427\",\"1450\"]}\n",
    "s = input(\"輸入學號\")\n",
    "\n",
    "n = 0\n",
    "for i in d[\"學號\"] :\n",
    "     #print(i)\n",
    "        if s == i :\n",
    "             print(d[\"分發寢室\"][n])\n",
    "        else : \n",
    "            n = n+1\n",
    "        "
   ]
  },
  {
   "cell_type": "code",
   "execution_count": 22,
   "id": "31767ee1",
   "metadata": {},
   "outputs": [
    {
     "ename": "IndentationError",
     "evalue": "unindent does not match any outer indentation level (<tokenize>, line 10)",
     "output_type": "error",
     "traceback": [
      "\u001b[1;36m  File \u001b[1;32m<tokenize>:10\u001b[1;36m\u001b[0m\n\u001b[1;33m    n = n+1\u001b[0m\n\u001b[1;37m    ^\u001b[0m\n\u001b[1;31mIndentationError\u001b[0m\u001b[1;31m:\u001b[0m unindent does not match any outer indentation level\n"
     ]
    }
   ],
   "source": [
    "d={\"學號\":[\"40971119H\",\"40971121H\",\"40971122H\",\"40971125H\"],\n",
    "   \"分發寢室\":[\"1545\",\"1439\",\"1427\",\"1450\"]}\n",
    "s = input(\"輸入學號\")\n",
    "\n",
    "n = 0\n",
    "for i in d[\"學號\"] :\n",
    "     #print(i)\n",
    "        if s == i :\n",
    "             print(d[\"分發寢室\"][n]) \n",
    "                \n",
    "                \n",
    "            n = n+1"
   ]
  },
  {
   "cell_type": "code",
   "execution_count": 24,
   "id": "4f90bb5c",
   "metadata": {},
   "outputs": [
    {
     "ename": "IndentationError",
     "evalue": "unindent does not match any outer indentation level (<tokenize>, line 12)",
     "output_type": "error",
     "traceback": [
      "\u001b[1;36m  File \u001b[1;32m<tokenize>:12\u001b[1;36m\u001b[0m\n\u001b[1;33m    n = n+1\u001b[0m\n\u001b[1;37m    ^\u001b[0m\n\u001b[1;31mIndentationError\u001b[0m\u001b[1;31m:\u001b[0m unindent does not match any outer indentation level\n"
     ]
    }
   ],
   "source": [
    "d={\"學號\":[\"40971119H\",\"40971121H\",\"40971122H\",\"40971125H\"],\n",
    "   \"分發寢室\":[\"1545\",\"1439\",\"1427\",\"1450\"]}\n",
    "s = input(\"輸入學號\")\n",
    "\n",
    "n = 0\n",
    "for i in d[\"學號\"] :\n",
    "     #print(i)\n",
    "        if s == i :\n",
    "             print(d[\"分發寢室\"][n]) \n",
    "                \n",
    "                \n",
    "            n = n+1"
   ]
  },
  {
   "cell_type": "code",
   "execution_count": 25,
   "id": "2dc30b71",
   "metadata": {},
   "outputs": [
    {
     "name": "stdout",
     "output_type": "stream",
     "text": [
      "輸入學號40971121H\n",
      "1439\n"
     ]
    }
   ],
   "source": [
    "d={\"學號\":[\"40971119H\",\"40971121H\",\"40971122H\",\"40971125H\"],\n",
    "   \"分發寢室\":[\"1545\",\"1439\",\"1427\",\"1450\"]}\n",
    "s = input(\"輸入學號\")\n",
    "\n",
    "n = 0\n",
    "for i in d[\"學號\"] :\n",
    "     #print(i)\n",
    "        if s == i :\n",
    "             print(d[\"分發寢室\"][n])\n",
    "        else : \n",
    "            n = n+1"
   ]
  },
  {
   "cell_type": "code",
   "execution_count": 26,
   "id": "a42fa26a",
   "metadata": {},
   "outputs": [
    {
     "name": "stdout",
     "output_type": "stream",
     "text": [
      "輸入學號40971125H\n",
      "1545\n"
     ]
    }
   ],
   "source": [
    "d={\"學號\":[\"40971119H\",\"40971121H\",\"40971122H\",\"40971125H\"],\n",
    "   \"分發寢室\":[\"1545\",\"1439\",\"1427\",\"1450\"]}\n",
    "s = input(\"輸入學號\")\n",
    "\n",
    "n = 0\n",
    "for i in d[\"學號\"] :\n",
    "     #print(i)\n",
    "        if s == i :\n",
    "             print(d[\"分發寢室\"][n])"
   ]
  },
  {
   "cell_type": "code",
   "execution_count": 27,
   "id": "b6c71317",
   "metadata": {},
   "outputs": [
    {
     "name": "stdout",
     "output_type": "stream",
     "text": [
      "輸入學號40971121H\n",
      "1545\n"
     ]
    }
   ],
   "source": [
    "d={\"學號\":[\"40971119H\",\"40971121H\",\"40971122H\",\"40971125H\"],\n",
    "   \"分發寢室\":[\"1545\",\"1439\",\"1427\",\"1450\"]}\n",
    "s = input(\"輸入學號\")\n",
    "\n",
    "n = 0\n",
    "for i in d[\"學號\"] :\n",
    "     #print(i)\n",
    "        if s == i :\n",
    "             print(d[\"分發寢室\"][n])"
   ]
  },
  {
   "cell_type": "code",
   "execution_count": 28,
   "id": "4031041f",
   "metadata": {},
   "outputs": [
    {
     "name": "stdout",
     "output_type": "stream",
     "text": [
      "輸入學號40971121H\n",
      "1545\n"
     ]
    }
   ],
   "source": [
    "d={\"學號\":[\"40971119H\",\"40971121H\",\"40971122H\",\"40971125H\"],\n",
    "   \"分發寢室\":[\"1545\",\"1439\",\"1427\",\"1450\"]}\n",
    "s = input(\"輸入學號\")\n",
    "\n",
    "n = 0\n",
    "for i in d[\"學號\"] :\n",
    "     #print(i)\n",
    "        if s == i :\n",
    "             print(d[\"分發寢室\"][n])"
   ]
  },
  {
   "cell_type": "code",
   "execution_count": null,
   "id": "17aa4f74",
   "metadata": {},
   "outputs": [],
   "source": [
    "d={\"學號\":[\"40971119H\",\"40971121H\",\"40971122H\",\"40971125H\"],\n",
    "   \"分發寢室\":[\"1545\",\"1439\",\"1427\",\"1450\"]}\n",
    "s = input(\"輸入學號\")\n",
    "\n",
    "n = 0\n",
    "for i in d[\"學號\"] :\n",
    "     #print(i)\n",
    "        if s == i :\n",
    "             print(d[\"分發寢室\"][n])\n",
    "        else : \n",
    "            n = n+1"
   ]
  },
  {
   "cell_type": "code",
   "execution_count": 31,
   "id": "60e9e684",
   "metadata": {},
   "outputs": [
    {
     "name": "stdout",
     "output_type": "stream",
     "text": [
      "輸入學號2\n"
     ]
    }
   ],
   "source": [
    "d={\"學號\":[\"40971119H\",\"40971121H\",\"40971122H\",\"40971125H\"],\n",
    "   \"分發寢室\":[\"1545\",\"1439\",\"1427\",\"1450\"]}\n",
    "s = input(\"輸入學號\")\n",
    "\n",
    "n = 0\n",
    "for i in d[\"學號\"] :\n",
    "     #print(i)\n",
    "        if s == i :\n",
    "             print(d[\"分發寢室\"][n])\n",
    "        else : \n",
    "            n = n+1"
   ]
  },
  {
   "cell_type": "code",
   "execution_count": 32,
   "id": "af80ccfc",
   "metadata": {},
   "outputs": [
    {
     "name": "stdout",
     "output_type": "stream",
     "text": [
      "輸入學號40971125H\n",
      "1450\n"
     ]
    }
   ],
   "source": [
    "d={\"學號\":[\"40971119H\",\"40971121H\",\"40971122H\",\"40971125H\"],\n",
    "   \"分發寢室\":[\"1545\",\"1439\",\"1427\",\"1450\"]}\n",
    "s = input(\"輸入學號\")\n",
    "\n",
    "n = 0\n",
    "for i in d[\"學號\"] :\n",
    "     #print(i)\n",
    "        if s == i :\n",
    "             print(d[\"分發寢室\"][n])\n",
    "        else : \n",
    "            n = n+1"
   ]
  },
  {
   "cell_type": "code",
   "execution_count": null,
   "id": "25dd514c",
   "metadata": {},
   "outputs": [],
   "source": []
  }
 ],
 "metadata": {
  "kernelspec": {
   "display_name": "Python 3 (ipykernel)",
   "language": "python",
   "name": "python3"
  },
  "language_info": {
   "codemirror_mode": {
    "name": "ipython",
    "version": 3
   },
   "file_extension": ".py",
   "mimetype": "text/x-python",
   "name": "python",
   "nbconvert_exporter": "python",
   "pygments_lexer": "ipython3",
   "version": "3.9.12"
  }
 },
 "nbformat": 4,
 "nbformat_minor": 5
}

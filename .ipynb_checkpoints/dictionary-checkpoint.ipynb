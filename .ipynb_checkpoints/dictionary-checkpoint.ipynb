{
 "cells": [
  {
   "cell_type": "code",
   "execution_count": 1,
   "id": "0ff9d7de",
   "metadata": {},
   "outputs": [
    {
     "name": "stdout",
     "output_type": "stream",
     "text": [
      "['高中班級', '大學班級']\n",
      "[['1-3', '2-7'], ['甲班', '乙班']]\n"
     ]
    },
    {
     "ename": "IndexError",
     "evalue": "list index out of range",
     "output_type": "error",
     "traceback": [
      "\u001b[1;31m---------------------------------------------------------------------------\u001b[0m",
      "\u001b[1;31mIndexError\u001b[0m                                Traceback (most recent call last)",
      "Input \u001b[1;32mIn [1]\u001b[0m, in \u001b[0;36m<cell line: 12>\u001b[1;34m()\u001b[0m\n\u001b[0;32m      7\u001b[0m l2\u001b[38;5;241m=\u001b[39m\u001b[38;5;28mlist\u001b[39m(d\u001b[38;5;241m.\u001b[39mvalues())\n\u001b[0;32m      8\u001b[0m \u001b[38;5;28mprint\u001b[39m(l2)\n\u001b[1;32m---> 12\u001b[0m \u001b[38;5;28mprint\u001b[39m(\u001b[43md\u001b[49m\u001b[43m[\u001b[49m\u001b[38;5;124;43m\"\u001b[39;49m\u001b[38;5;124;43m高中班級\u001b[39;49m\u001b[38;5;124;43m\"\u001b[39;49m\u001b[43m]\u001b[49m\u001b[43m[\u001b[49m\u001b[38;5;241;43m3\u001b[39;49m\u001b[43m]\u001b[49m)\n\u001b[0;32m     15\u001b[0m d[\u001b[38;5;124m\"\u001b[39m\u001b[38;5;124m大學班級\u001b[39m\u001b[38;5;124m\"\u001b[39m]\u001b[38;5;241m=\u001b[39m[\u001b[38;5;124m\"\u001b[39m\u001b[38;5;124m甲班\u001b[39m\u001b[38;5;124m\"\u001b[39m,\u001b[38;5;124m\"\u001b[39m\u001b[38;5;124m乙班\u001b[39m\u001b[38;5;124m\"\u001b[39m]\n\u001b[0;32m     16\u001b[0m \u001b[38;5;28mprint\u001b[39m(d)\n",
      "\u001b[1;31mIndexError\u001b[0m: list index out of range"
     ]
    }
   ],
   "source": [
    "d={\"高中班級\":[\"1-3\",\"2-7\"],\n",
    "   \"大學班級\":[\"甲班\",\"乙班\"]}\n",
    "\n",
    "\n",
    "l1=list(d.keys())\n",
    "print(l1)\n",
    "l2=list(d.values())\n",
    "print(l2)\n",
    "\n",
    "\n",
    "\n",
    "print(d[\"高中班級\"][2])\n",
    "\n",
    "\n",
    "d[\"大學班級\"]=[\"甲班\",\"乙班\"]\n",
    "print(d)"
   ]
  },
  {
   "cell_type": "code",
   "execution_count": 2,
   "id": "d6ae7b6f",
   "metadata": {},
   "outputs": [
    {
     "name": "stdout",
     "output_type": "stream",
     "text": [
      "['高中班級', '大學班級']\n",
      "[['1-3', '2-7'], ['甲班', '乙班']]\n"
     ]
    },
    {
     "ename": "IndexError",
     "evalue": "list index out of range",
     "output_type": "error",
     "traceback": [
      "\u001b[1;31m---------------------------------------------------------------------------\u001b[0m",
      "\u001b[1;31mIndexError\u001b[0m                                Traceback (most recent call last)",
      "Input \u001b[1;32mIn [2]\u001b[0m, in \u001b[0;36m<cell line: 12>\u001b[1;34m()\u001b[0m\n\u001b[0;32m      7\u001b[0m l2\u001b[38;5;241m=\u001b[39m\u001b[38;5;28mlist\u001b[39m(d\u001b[38;5;241m.\u001b[39mvalues())\n\u001b[0;32m      8\u001b[0m \u001b[38;5;28mprint\u001b[39m(l2)\n\u001b[1;32m---> 12\u001b[0m \u001b[38;5;28mprint\u001b[39m(\u001b[43md\u001b[49m\u001b[43m[\u001b[49m\u001b[38;5;124;43m\"\u001b[39;49m\u001b[38;5;124;43m高中班級\u001b[39;49m\u001b[38;5;124;43m\"\u001b[39;49m\u001b[43m]\u001b[49m\u001b[43m[\u001b[49m\u001b[38;5;241;43m2\u001b[39;49m\u001b[43m]\u001b[49m)\n\u001b[0;32m     15\u001b[0m d[\u001b[38;5;124m\"\u001b[39m\u001b[38;5;124m大學班級\u001b[39m\u001b[38;5;124m\"\u001b[39m]\u001b[38;5;241m=\u001b[39m[\u001b[38;5;124m\"\u001b[39m\u001b[38;5;124m甲班\u001b[39m\u001b[38;5;124m\"\u001b[39m,\u001b[38;5;124m\"\u001b[39m\u001b[38;5;124m乙班\u001b[39m\u001b[38;5;124m\"\u001b[39m]\n\u001b[0;32m     16\u001b[0m \u001b[38;5;28mprint\u001b[39m(d)\n",
      "\u001b[1;31mIndexError\u001b[0m: list index out of range"
     ]
    }
   ],
   "source": [
    "d={\"高中班級\":[\"1-3\",\"2-7\"],\n",
    "   \"大學班級\":[\"甲班\",\"乙班\"]}\n",
    "\n",
    "\n",
    "l1=list(d.keys())\n",
    "print(l1)\n",
    "l2=list(d.values())\n",
    "print(l2)\n",
    "\n",
    "\n",
    "\n",
    "print(d[\"高中班級\"][1])\n",
    "\n",
    "\n",
    "d[\"大學班級\"]=[\"甲班\",\"乙班\"]\n",
    "print(d)\n"
   ]
  },
  {
   "cell_type": "code",
   "execution_count": 3,
   "id": "30efb7e7",
   "metadata": {},
   "outputs": [
    {
     "name": "stdout",
     "output_type": "stream",
     "text": [
      "['高中班級', '大學班級']\n",
      "[['1-3', '2-7'], ['甲班', '乙班']]\n",
      "2-7\n",
      "{'高中班級': ['1-3', '2-7'], '大學班級': ['甲班', '乙班']}\n"
     ]
    }
   ],
   "source": [
    "d={\"高中班級\":[\"1-3\",\"2-7\"],\n",
    "   \"大學班級\":[\"甲班\",\"乙班\"]}\n",
    "\n",
    "\n",
    "l1=list(d.keys())\n",
    "print(l1)\n",
    "l2=list(d.values())\n",
    "print(l2)\n",
    "\n",
    "\n",
    "\n",
    "print(d[\"高中班級\"][1])\n",
    "\n",
    "\n",
    "d[\"大學班級\"]=[\"甲班\",\"乙班\"]\n",
    "print(d)\n"
   ]
  },
  {
   "cell_type": "code",
   "execution_count": null,
   "id": "5cd16747",
   "metadata": {},
   "outputs": [],
   "source": []
  }
 ],
 "metadata": {
  "kernelspec": {
   "display_name": "Python 3 (ipykernel)",
   "language": "python",
   "name": "python3"
  },
  "language_info": {
   "codemirror_mode": {
    "name": "ipython",
    "version": 3
   },
   "file_extension": ".py",
   "mimetype": "text/x-python",
   "name": "python",
   "nbconvert_exporter": "python",
   "pygments_lexer": "ipython3",
   "version": "3.9.12"
  }
 },
 "nbformat": 4,
 "nbformat_minor": 5
}

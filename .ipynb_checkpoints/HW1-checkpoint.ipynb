{
 "cells": [
  {
   "cell_type": "code",
   "execution_count": 61,
   "id": "a336758e",
   "metadata": {},
   "outputs": [],
   "source": [
    "import pandas as pd\n",
    "\n",
    "# read csv file\n",
    "n1 = pd.read_csv(\"106.csv\")"
   ]
  },
  {
   "cell_type": "code",
   "execution_count": 62,
   "id": "0000fde1",
   "metadata": {},
   "outputs": [],
   "source": [
    "import pandas as pd\n",
    "\n",
    "# read csv file\n",
    "n2 = pd.read_csv(\"110.csv\")"
   ]
  },
  {
   "cell_type": "code",
   "execution_count": 63,
   "id": "274814ea",
   "metadata": {},
   "outputs": [
    {
     "name": "stdout",
     "output_type": "stream",
     "text": [
      "       年度  月份  區域別 性別     總計  區域人人口數  原住民合計  平地原住民  山地原住民\n",
      "0     106   1  馬公市  計  61768   61440    328    172    156\n",
      "1     106   1  馬公市  男  31406   31254    152     77     75\n",
      "2     106   1  馬公市  女  30362   30186    176     95     81\n",
      "3     106   1  復興里  計    513     509      4      1      3\n",
      "4     106   1  復興里  男    318     314      4      1      3\n",
      "...   ...  ..  ... ..    ...     ...    ...    ...    ...\n",
      "1219  106  12  虎井里  男    494     491      3      2      1\n",
      "1220  106  12  虎井里  女    375     375      0      0      0\n",
      "1221  106  12  桶盤里  計    377     376      1      1      0\n",
      "1222  106  12  桶盤里  男    202     202      0      0      0\n",
      "1223  106  12  桶盤里  女    175     174      1      1      0\n",
      "\n",
      "[1224 rows x 9 columns]\n",
      "       年度  月份  區域別 性別     總計  區域人人口數  原住民合計  平地原住民  山地原住民\n",
      "0     110   1  馬公市  計  63195   62771    424    235    189\n",
      "1     110   1  馬公市  男  32115   31903    212    116     96\n",
      "2     110   1  馬公市  女  31080   30868    212    119     93\n",
      "3     110   1  復興里  計    537     533      4      0      4\n",
      "4     110   1  復興里  男    337     333      4      0      4\n",
      "...   ...  ..  ... ..    ...     ...    ...    ...    ...\n",
      "1219  110  12  虎井里  男    527     524      3      1      2\n",
      "1220  110  12  虎井里  女    373     373      0      0      0\n",
      "1221  110  12  桶盤里  計    398     397      1      1      0\n",
      "1222  110  12  桶盤里  男    213     213      0      0      0\n",
      "1223  110  12  桶盤里  女    185     184      1      1      0\n",
      "\n",
      "[1224 rows x 9 columns]\n"
     ]
    }
   ],
   "source": [
    "print(n1)\n",
    "print(n2)"
   ]
  },
  {
   "cell_type": "code",
   "execution_count": 83,
   "id": "cd8348ef",
   "metadata": {},
   "outputs": [],
   "source": [
    "#110年和106年澎湖不分月份各里是否曾有山地原住民出現調查的比較\n",
    "l1=list(n1[(n1[\"山地原住民\"]>0)][\"區域別\"])\n",
    "l2=list(n2[(n2[\"山地原住民\"]>0)][\"區域別\"])\n"
   ]
  },
  {
   "cell_type": "code",
   "execution_count": 90,
   "id": "9ab64fee",
   "metadata": {},
   "outputs": [
    {
     "name": "stdout",
     "output_type": "stream",
     "text": [
      "{'光華里', '前寮里', '馬公市', '興仁里', '啟明里', '長安里', '烏崁里', '風櫃里', '鐵線里', '石泉里', '西衛里', '山水里', '中興里', '案山里', '光明里', '西文里', '中央里', '鎖港里', '五德里', '復興里', '東衛里', '嵵裡里', '重光里', '光榮里', '安宅里', '陽明里', '朝陽里', '東文里', '虎井里', '光復里'}\n",
      "{'光華里', '前寮里', '馬公市', '興仁里', '啟明里', '長安里', '烏崁里', '風櫃里', '鐵線里', '石泉里', '西衛里', '山水里', '中興里', '案山里', '光明里', '西文里', '中央里', '鎖港里', '五德里', '復興里', '東衛里', '嵵裡里', '重慶里', '重光里', '光榮里', '安宅里', '陽明里', '朝陽里', '東文里', '虎井里', '光復里'}\n"
     ]
    }
   ],
   "source": [
    "s1=set(l1)\n",
    "s2=set(l2)\n",
    "print(s1)\n",
    "print(s2)\n"
   ]
  },
  {
   "cell_type": "code",
   "execution_count": 91,
   "id": "0253fb53",
   "metadata": {},
   "outputs": [
    {
     "data": {
      "text/plain": [
       "{'中央里',\n",
       " '中興里',\n",
       " '五德里',\n",
       " '光復里',\n",
       " '光明里',\n",
       " '光榮里',\n",
       " '光華里',\n",
       " '前寮里',\n",
       " '啟明里',\n",
       " '安宅里',\n",
       " '山水里',\n",
       " '嵵裡里',\n",
       " '復興里',\n",
       " '朝陽里',\n",
       " '東文里',\n",
       " '東衛里',\n",
       " '案山里',\n",
       " '烏崁里',\n",
       " '石泉里',\n",
       " '興仁里',\n",
       " '虎井里',\n",
       " '西文里',\n",
       " '西衛里',\n",
       " '重光里',\n",
       " '鎖港里',\n",
       " '鐵線里',\n",
       " '長安里',\n",
       " '陽明里',\n",
       " '風櫃里',\n",
       " '馬公市'}"
      ]
     },
     "execution_count": 91,
     "metadata": {},
     "output_type": "execute_result"
    }
   ],
   "source": [
    "#交集，這兩個年份都有出現山地原住民的里\n",
    "s1 & s2"
   ]
  },
  {
   "cell_type": "code",
   "execution_count": 92,
   "id": "914ed584",
   "metadata": {},
   "outputs": [
    {
     "data": {
      "text/plain": [
       "{'中央里',\n",
       " '中興里',\n",
       " '五德里',\n",
       " '光復里',\n",
       " '光明里',\n",
       " '光榮里',\n",
       " '光華里',\n",
       " '前寮里',\n",
       " '啟明里',\n",
       " '安宅里',\n",
       " '山水里',\n",
       " '嵵裡里',\n",
       " '復興里',\n",
       " '朝陽里',\n",
       " '東文里',\n",
       " '東衛里',\n",
       " '案山里',\n",
       " '烏崁里',\n",
       " '石泉里',\n",
       " '興仁里',\n",
       " '虎井里',\n",
       " '西文里',\n",
       " '西衛里',\n",
       " '重光里',\n",
       " '重慶里',\n",
       " '鎖港里',\n",
       " '鐵線里',\n",
       " '長安里',\n",
       " '陽明里',\n",
       " '風櫃里',\n",
       " '馬公市'}"
      ]
     },
     "execution_count": 92,
     "metadata": {},
     "output_type": "execute_result"
    }
   ],
   "source": [
    "#聯集，這兩個年份有出現山地原住民過的里\n",
    "s1 | s2"
   ]
  },
  {
   "cell_type": "code",
   "execution_count": 93,
   "id": "7bae98e2",
   "metadata": {},
   "outputs": [
    {
     "data": {
      "text/plain": [
       "set()"
      ]
     },
     "execution_count": 93,
     "metadata": {},
     "output_type": "execute_result"
    }
   ],
   "source": [
    "#差集，106年有出現山地原住民但110年沒有\n",
    "s1 - s2\n"
   ]
  },
  {
   "cell_type": "code",
   "execution_count": 94,
   "id": "3321360c",
   "metadata": {},
   "outputs": [
    {
     "data": {
      "text/plain": [
       "{'重慶里'}"
      ]
     },
     "execution_count": 94,
     "metadata": {},
     "output_type": "execute_result"
    }
   ],
   "source": [
    "#差集，110年有出現山地原住民但106年沒有\n",
    "s2-s1"
   ]
  },
  {
   "cell_type": "code",
   "execution_count": 95,
   "id": "7c084b7e",
   "metadata": {},
   "outputs": [
    {
     "data": {
      "text/plain": [
       "{'重慶里'}"
      ]
     },
     "execution_count": 95,
     "metadata": {},
     "output_type": "execute_result"
    }
   ],
   "source": [
    "#對稱差集\n",
    "#聯集-交集\n",
    "sa=s1|s2\n",
    "sb=s1&s2\n",
    "sa-sb"
   ]
  },
  {
   "cell_type": "code",
   "execution_count": null,
   "id": "d0263258",
   "metadata": {},
   "outputs": [],
   "source": []
  }
 ],
 "metadata": {
  "kernelspec": {
   "display_name": "Python 3 (ipykernel)",
   "language": "python",
   "name": "python3"
  },
  "language_info": {
   "codemirror_mode": {
    "name": "ipython",
    "version": 3
   },
   "file_extension": ".py",
   "mimetype": "text/x-python",
   "name": "python",
   "nbconvert_exporter": "python",
   "pygments_lexer": "ipython3",
   "version": "3.9.12"
  }
 },
 "nbformat": 4,
 "nbformat_minor": 5
}

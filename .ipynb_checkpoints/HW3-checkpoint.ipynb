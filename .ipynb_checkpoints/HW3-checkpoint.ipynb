{
 "cells": [
  {
   "cell_type": "code",
   "execution_count": 25,
   "id": "feedf2d2",
   "metadata": {},
   "outputs": [],
   "source": [
    "import urllib.request as req\n",
    "url = \"https://www.ptt.cc/bbs/NBA/index.html\"\n",
    "request=req.Request(url, headers={\n",
    "    \"User-Agent\":\"Mozilla/5.0 (Windows NT 10.0; Win64; x64) AppleWebKit/537.36 (KHTML, like Gecko) Chrome/106.0.0.0 Safari/537.36\"\n",
    "})\n",
    "with req.urlopen(request) as response:\n",
    "    data=response.read().decode(\"utf-8\")\n",
    "import bs4\n",
    "root=bs4.BeautifulSoup(data, \"html.parser\")\n",
    "titles=root.find_all(\"div\", class_=\"title\")\n",
    "import csv\n",
    "\n",
    "with open(\"NBA.csv\", \"w\",encoding=\"utf-8-sig\",newline='') as file:\n",
    "    writer = csv.writer(file)                                          \n",
    "    writer.writerow(['標題'])\n",
    "    \n",
    "    for object in titles :\n",
    "        if root.a != None :\n",
    "            titles=root.find_all(\"div\", class_=\"title\")\n",
    "            writer.writerow([titles])\n",
    "            break\n",
    "        #看CSV檔的時候，A2要拉大一點\n",
    "        #以上參考iT邦幫忙的爬蟲實戰演練\n",
    "import pandas as pd\n",
    "NBAcsv = pd.read_csv(\"NBA.csv\")\n",
    "\n",
    "\n",
    "import pandas as pd\n",
    "csv_data = pd.read_csv(\"NBA.csv\", sep = \",\")\n",
    "csv_data.to_json(\"NBA.json\", orient = \"records\")\n",
    "     #參考 Delftsnack網站"
   ]
  },
  {
   "cell_type": "code",
   "execution_count": null,
   "id": "548edb24",
   "metadata": {},
   "outputs": [],
   "source": []
  }
 ],
 "metadata": {
  "kernelspec": {
   "display_name": "Python 3 (ipykernel)",
   "language": "python",
   "name": "python3"
  },
  "language_info": {
   "codemirror_mode": {
    "name": "ipython",
    "version": 3
   },
   "file_extension": ".py",
   "mimetype": "text/x-python",
   "name": "python",
   "nbconvert_exporter": "python",
   "pygments_lexer": "ipython3",
   "version": "3.9.12"
  }
 },
 "nbformat": 4,
 "nbformat_minor": 5
}

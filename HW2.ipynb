{
 "cells": [
  {
   "cell_type": "code",
   "execution_count": 6,
   "id": "9be51901",
   "metadata": {},
   "outputs": [
    {
     "data": {
      "text/plain": [
       "dict"
      ]
     },
     "execution_count": 6,
     "metadata": {},
     "output_type": "execute_result"
    }
   ],
   "source": [
    "#打開JSON檔\n",
    "import json\n",
    "bp = open('best player in the decade.json',encoding=\"utf8\")\n",
    "p = json.load(bp)\n",
    "type(p)"
   ]
  },
  {
   "cell_type": "code",
   "execution_count": 7,
   "id": "011d9650",
   "metadata": {},
   "outputs": [
    {
     "data": {
      "text/plain": [
       "dict_items([('球員列表', [{'球員名稱': 'Chef Curry', '球員位置': 'pg', '過去10年獲得冠軍數量': '4', 'finals mvp': '1', 'player ranking': 'No.2'}, {'球員名稱': 'Leflop  James', '球員位置': 'sf', '過去10年獲得冠軍數量': '4', 'finals mvp': '4', 'player ranking': 'No.1'}, {'球員名稱': 'The Claw(Kawhi)', '球員位置': 'sf', '過去10年獲得冠軍數量': '2', 'finals mvp': '2', 'player ranking': 'No.4'}, {'球員名稱': 'Slim Reaper(KD)', '球員位置': 'sf', '過去10年獲得冠軍數量': '2', 'finals mvp': '2', 'player ranking': 'No.3'}, {'球員名稱': 'The Greek Freak(Giannis)', '球員位置': 'pf', '過去10年獲得冠軍數量': '1', 'finals mvp': '1', 'player ranking': 'No.5'}]), ('球員進入冠軍賽次數', [{'球員名稱': 'Chef Curry', '次數': '6'}, {'球員名稱': 'Leflop James', '次數': '8'}, {'球員名稱': 'The Claw(Kawhi)', '次數': '3'}, {'球員名稱': 'Slim Reaper(KD)', '次數': '4'}, {'球員名稱': 'The Greek Freak(Giannis)', '次數': '1'}])])"
      ]
     },
     "execution_count": 7,
     "metadata": {},
     "output_type": "execute_result"
    }
   ],
   "source": [
    "#自己做的現任nba五大球星排排看\n",
    "p.items()"
   ]
  },
  {
   "cell_type": "code",
   "execution_count": 43,
   "id": "9d3b34f2",
   "metadata": {},
   "outputs": [],
   "source": [
    "#列出我認為會影響我如何排名的各球員榮譽獎項\n",
    "temp1=p.get('球員列表')"
   ]
  },
  {
   "cell_type": "code",
   "execution_count": 44,
   "id": "deeb444f",
   "metadata": {},
   "outputs": [
    {
     "data": {
      "text/plain": [
       "[{'球員名稱': 'Chef Curry',\n",
       "  '球員位置': 'pg',\n",
       "  '過去10年獲得冠軍數量': '4',\n",
       "  'finals mvp': '1',\n",
       "  'player ranking': 'No.2'},\n",
       " {'球員名稱': 'Leflop  James',\n",
       "  '球員位置': 'sf',\n",
       "  '過去10年獲得冠軍數量': '4',\n",
       "  'finals mvp': '4',\n",
       "  'player ranking': 'No.1'},\n",
       " {'球員名稱': 'The Claw(Kawhi)',\n",
       "  '球員位置': 'sf',\n",
       "  '過去10年獲得冠軍數量': '2',\n",
       "  'finals mvp': '2',\n",
       "  'player ranking': 'No.4'},\n",
       " {'球員名稱': 'Slim Reaper(KD)',\n",
       "  '球員位置': 'sf',\n",
       "  '過去10年獲得冠軍數量': '2',\n",
       "  'finals mvp': '2',\n",
       "  'player ranking': 'No.3'},\n",
       " {'球員名稱': 'The Greek Freak(Giannis)',\n",
       "  '球員位置': 'pf',\n",
       "  '過去10年獲得冠軍數量': '1',\n",
       "  'finals mvp': '1',\n",
       "  'player ranking': 'No.5'}]"
      ]
     },
     "execution_count": 44,
     "metadata": {},
     "output_type": "execute_result"
    }
   ],
   "source": [
    "temp1"
   ]
  },
  {
   "cell_type": "code",
   "execution_count": 45,
   "id": "ca71a885",
   "metadata": {},
   "outputs": [],
   "source": [
    "#該球員的帶隊能力\n",
    "temp2=p.get('球員進入冠軍賽次數')"
   ]
  },
  {
   "cell_type": "code",
   "execution_count": 46,
   "id": "ce97c023",
   "metadata": {},
   "outputs": [
    {
     "data": {
      "text/plain": [
       "[{'球員名稱': 'Chef Curry', '次數': '6'},\n",
       " {'球員名稱': 'Leflop James', '次數': '8'},\n",
       " {'球員名稱': 'The Claw(Kawhi)', '次數': '3'},\n",
       " {'球員名稱': 'Slim Reaper(KD)', '次數': '4'},\n",
       " {'球員名稱': 'The Greek Freak(Giannis)', '次數': '1'}]"
      ]
     },
     "execution_count": 46,
     "metadata": {},
     "output_type": "execute_result"
    }
   ],
   "source": [
    "temp2"
   ]
  },
  {
   "cell_type": "code",
   "execution_count": 47,
   "id": "53284ad9",
   "metadata": {},
   "outputs": [],
   "source": [
    "#查詢球員相關成就\n",
    "ask = \"Chef Curry\""
   ]
  },
  {
   "cell_type": "code",
   "execution_count": 48,
   "id": "40a71ab7",
   "metadata": {},
   "outputs": [
    {
     "name": "stdout",
     "output_type": "stream",
     "text": [
      "Chef Curry 獲得 4 次冠軍\n"
     ]
    }
   ],
   "source": [
    "for i in temp1:\n",
    "    if ask == i.get('球員名稱'):\n",
    "        print(ask, '獲得', i.get('過去10年獲得冠軍數量'), '次冠軍')"
   ]
  },
  {
   "cell_type": "code",
   "execution_count": 50,
   "id": "6cd09220",
   "metadata": {},
   "outputs": [
    {
     "name": "stdout",
     "output_type": "stream",
     "text": [
      "Chef Curry 進入冠軍賽次數: 6\n"
     ]
    }
   ],
   "source": [
    "for i in temp2:\n",
    "    if ask == i.get('球員名稱'):\n",
    "        print(ask,'進入冠軍賽次數:',i.get('次數'))"
   ]
  },
  {
   "cell_type": "code",
   "execution_count": 51,
   "id": "122858c2",
   "metadata": {},
   "outputs": [
    {
     "data": {
      "text/plain": [
       "['No.2', 'No.1', 'No.4', 'No.3', 'No.5']"
      ]
     },
     "execution_count": 51,
     "metadata": {},
     "output_type": "execute_result"
    }
   ],
   "source": [
    "#按照順序的實力排序\n",
    "capability  = []\n",
    "for i in temp1:\n",
    "    capability.append(i.get('player ranking'))\n",
    "capability"
   ]
  },
  {
   "cell_type": "code",
   "execution_count": 119,
   "id": "c9abe3ab",
   "metadata": {},
   "outputs": [],
   "source": [
    "capability_enumerate = enumerate(capability, start = 1)"
   ]
  },
  {
   "cell_type": "code",
   "execution_count": 120,
   "id": "48f87519",
   "metadata": {},
   "outputs": [
    {
     "data": {
      "text/plain": [
       "[(2, 'No.1'), (1, 'No.2'), (4, 'No.3'), (3, 'No.4'), (5, 'No.5')]"
      ]
     },
     "execution_count": 120,
     "metadata": {},
     "output_type": "execute_result"
    }
   ],
   "source": [
    "capability_enumerate_sorted = sorted(capability_enumerate, key = lambda s: s[1])\n",
    "capability_enumerate_sorted"
   ]
  },
  {
   "cell_type": "code",
   "execution_count": 114,
   "id": "bac645ba",
   "metadata": {},
   "outputs": [
    {
     "data": {
      "text/plain": [
       "5"
      ]
     },
     "execution_count": 114,
     "metadata": {},
     "output_type": "execute_result"
    }
   ],
   "source": [
    "capability_enumerate_sorted[4][0]"
   ]
  },
  {
   "cell_type": "code",
   "execution_count": 121,
   "id": "6c04a73c",
   "metadata": {},
   "outputs": [
    {
     "name": "stdout",
     "output_type": "stream",
     "text": [
      "Leflop  James 是過去十年排名 No.1 的劃時代籃球員\n",
      "Chef Curry 是過去十年排名 No.2 的劃時代籃球員\n",
      "Slim Reaper(KD) 是過去十年排名 No.3 的劃時代籃球員\n",
      "The Claw(Kawhi) 是過去十年排名 No.4 的劃時代籃球員\n",
      "The Greek Freak(Giannis) 是過去十年排名 No.5 的劃時代籃球員\n"
     ]
    }
   ],
   "source": [
    "# 印出排序過後的球員與其強度\n",
    "for i in capability_enumerate_sorted:\n",
    "    j = i[0] - 1\n",
    "    print(temp1[j].get('球員名稱'), '是過去十年排名', temp1[j].get('player ranking'), '的劃時代籃球員')"
   ]
  },
  {
   "cell_type": "code",
   "execution_count": null,
   "id": "6a49f667",
   "metadata": {},
   "outputs": [],
   "source": []
  }
 ],
 "metadata": {
  "kernelspec": {
   "display_name": "Python 3 (ipykernel)",
   "language": "python",
   "name": "python3"
  },
  "language_info": {
   "codemirror_mode": {
    "name": "ipython",
    "version": 3
   },
   "file_extension": ".py",
   "mimetype": "text/x-python",
   "name": "python",
   "nbconvert_exporter": "python",
   "pygments_lexer": "ipython3",
   "version": "3.9.12"
  }
 },
 "nbformat": 4,
 "nbformat_minor": 5
}

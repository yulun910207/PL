{
 "cells": [
  {
   "cell_type": "code",
   "execution_count": 5,
   "id": "d98d5ab9",
   "metadata": {},
   "outputs": [
    {
     "name": "stdout",
     "output_type": "stream",
     "text": [
      "Defaulting to user installation because normal site-packages is not writeable\n",
      "Requirement already satisfied: beautifulsoup4 in c:\\programdata\\anaconda3\\lib\\site-packages (4.11.1)\n",
      "Requirement already satisfied: soupsieve>1.2 in c:\\programdata\\anaconda3\\lib\\site-packages (from beautifulsoup4) (2.3.1)\n",
      "Note: you may need to restart the kernel to use updated packages.\n"
     ]
    }
   ],
   "source": [
    "pip install beautifulsoup4"
   ]
  },
  {
   "cell_type": "code",
   "execution_count": 38,
   "id": "166a4c50",
   "metadata": {},
   "outputs": [],
   "source": [
    "import urllib.request as req\n",
    "url = \"https://www.ptt.cc/bbs/NBA/index.html\"\n",
    "request=req.Request(url, headers={\n",
    "    \"User-Agent\":\"Mozilla/5.0 (Windows NT 10.0; Win64; x64) AppleWebKit/537.36 (KHTML, like Gecko) Chrome/106.0.0.0 Safari/537.36\"\n",
    "})\n",
    "with req.urlopen(request) as response:\n",
    "    data=response.read().decode(\"utf-8\")\n",
    "import bs4\n",
    "root=bs4.BeautifulSoup(data, \"html.parser\")\n",
    "titles=root.find_all(\"div\", \"title\")\n",
    "import csv\n",
    "\n",
    "with open(\"NBA.csv\", \"w\",encoding=\"utf-8\") as file:\n",
    "    writer = csv.writer(file)                                          \n",
    "    writer.writerow(['標題'])\n",
    "    \n",
    "    for object in titles :\n",
    "        if object.a != None :\n",
    "            titles=root.find_all(\"div\", \"title\")\n",
    "            writer.writerow([titles])\n",
    "        #請同學評分的時候，如果要觀看csv檔，用記事本打開它並另存成使用BOM的UTF-8編碼的檔案，類型選所有檔案，就不會是亂碼了\n",
    "        #以上參考iT邦幫忙的爬蟲實戰演練\n",
    "\n"
   ]
  },
  {
   "cell_type": "code",
   "execution_count": 39,
   "id": "cdba4706",
   "metadata": {},
   "outputs": [
    {
     "data": {
      "text/html": [
       "<div>\n",
       "<style scoped>\n",
       "    .dataframe tbody tr th:only-of-type {\n",
       "        vertical-align: middle;\n",
       "    }\n",
       "\n",
       "    .dataframe tbody tr th {\n",
       "        vertical-align: top;\n",
       "    }\n",
       "\n",
       "    .dataframe thead th {\n",
       "        text-align: right;\n",
       "    }\n",
       "</style>\n",
       "<table border=\"1\" class=\"dataframe\">\n",
       "  <thead>\n",
       "    <tr style=\"text-align: right;\">\n",
       "      <th></th>\n",
       "      <th>標題</th>\n",
       "    </tr>\n",
       "  </thead>\n",
       "  <tbody>\n",
       "    <tr>\n",
       "      <th>0</th>\n",
       "      <td>[&lt;div class=\"title\"&gt;\\r\\n&lt;a href=\"/bbs/NBA/M.16...</td>\n",
       "    </tr>\n",
       "    <tr>\n",
       "      <th>1</th>\n",
       "      <td>[&lt;div class=\"title\"&gt;\\r\\n&lt;a href=\"/bbs/NBA/M.16...</td>\n",
       "    </tr>\n",
       "    <tr>\n",
       "      <th>2</th>\n",
       "      <td>[&lt;div class=\"title\"&gt;\\r\\n&lt;a href=\"/bbs/NBA/M.16...</td>\n",
       "    </tr>\n",
       "    <tr>\n",
       "      <th>3</th>\n",
       "      <td>[&lt;div class=\"title\"&gt;\\r\\n&lt;a href=\"/bbs/NBA/M.16...</td>\n",
       "    </tr>\n",
       "    <tr>\n",
       "      <th>4</th>\n",
       "      <td>[&lt;div class=\"title\"&gt;\\r\\n&lt;a href=\"/bbs/NBA/M.16...</td>\n",
       "    </tr>\n",
       "    <tr>\n",
       "      <th>5</th>\n",
       "      <td>[&lt;div class=\"title\"&gt;\\r\\n&lt;a href=\"/bbs/NBA/M.16...</td>\n",
       "    </tr>\n",
       "    <tr>\n",
       "      <th>6</th>\n",
       "      <td>[&lt;div class=\"title\"&gt;\\r\\n&lt;a href=\"/bbs/NBA/M.16...</td>\n",
       "    </tr>\n",
       "    <tr>\n",
       "      <th>7</th>\n",
       "      <td>[&lt;div class=\"title\"&gt;\\r\\n&lt;a href=\"/bbs/NBA/M.16...</td>\n",
       "    </tr>\n",
       "    <tr>\n",
       "      <th>8</th>\n",
       "      <td>[&lt;div class=\"title\"&gt;\\r\\n&lt;a href=\"/bbs/NBA/M.16...</td>\n",
       "    </tr>\n",
       "    <tr>\n",
       "      <th>9</th>\n",
       "      <td>[&lt;div class=\"title\"&gt;\\r\\n&lt;a href=\"/bbs/NBA/M.16...</td>\n",
       "    </tr>\n",
       "    <tr>\n",
       "      <th>10</th>\n",
       "      <td>[&lt;div class=\"title\"&gt;\\r\\n&lt;a href=\"/bbs/NBA/M.16...</td>\n",
       "    </tr>\n",
       "    <tr>\n",
       "      <th>11</th>\n",
       "      <td>[&lt;div class=\"title\"&gt;\\r\\n&lt;a href=\"/bbs/NBA/M.16...</td>\n",
       "    </tr>\n",
       "  </tbody>\n",
       "</table>\n",
       "</div>"
      ],
      "text/plain": [
       "                                                   標題\n",
       "0   [<div class=\"title\">\\r\\n<a href=\"/bbs/NBA/M.16...\n",
       "1   [<div class=\"title\">\\r\\n<a href=\"/bbs/NBA/M.16...\n",
       "2   [<div class=\"title\">\\r\\n<a href=\"/bbs/NBA/M.16...\n",
       "3   [<div class=\"title\">\\r\\n<a href=\"/bbs/NBA/M.16...\n",
       "4   [<div class=\"title\">\\r\\n<a href=\"/bbs/NBA/M.16...\n",
       "5   [<div class=\"title\">\\r\\n<a href=\"/bbs/NBA/M.16...\n",
       "6   [<div class=\"title\">\\r\\n<a href=\"/bbs/NBA/M.16...\n",
       "7   [<div class=\"title\">\\r\\n<a href=\"/bbs/NBA/M.16...\n",
       "8   [<div class=\"title\">\\r\\n<a href=\"/bbs/NBA/M.16...\n",
       "9   [<div class=\"title\">\\r\\n<a href=\"/bbs/NBA/M.16...\n",
       "10  [<div class=\"title\">\\r\\n<a href=\"/bbs/NBA/M.16...\n",
       "11  [<div class=\"title\">\\r\\n<a href=\"/bbs/NBA/M.16..."
      ]
     },
     "execution_count": 39,
     "metadata": {},
     "output_type": "execute_result"
    }
   ],
   "source": [
    "import pandas as pd\n",
    "NBAcsv = pd.read_csv(\"NBA.csv\")\n",
    "NBAcsv"
   ]
  },
  {
   "cell_type": "code",
   "execution_count": 49,
   "id": "463c566c",
   "metadata": {},
   "outputs": [],
   "source": [
    "import pandas as pd\n",
    "csv_data = pd.read_csv(\"NBA.csv\", sep = \",\")\n",
    "csv_data.to_json(\"NBA.json\", orient = \"records\") #參考 Delftsnack網站"
   ]
  },
  {
   "cell_type": "code",
   "execution_count": null,
   "id": "50d98764",
   "metadata": {},
   "outputs": [],
   "source": []
  }
 ],
 "metadata": {
  "kernelspec": {
   "display_name": "Python 3 (ipykernel)",
   "language": "python",
   "name": "python3"
  },
  "language_info": {
   "codemirror_mode": {
    "name": "ipython",
    "version": 3
   },
   "file_extension": ".py",
   "mimetype": "text/x-python",
   "name": "python",
   "nbconvert_exporter": "python",
   "pygments_lexer": "ipython3",
   "version": "3.9.12"
  }
 },
 "nbformat": 4,
 "nbformat_minor": 5
}
